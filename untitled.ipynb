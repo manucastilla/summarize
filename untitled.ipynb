{
 "metadata": {
  "language_info": {
   "codemirror_mode": {
    "name": "ipython",
    "version": 3
   },
   "file_extension": ".py",
   "mimetype": "text/x-python",
   "name": "python",
   "nbconvert_exporter": "python",
   "pygments_lexer": "ipython3",
   "version": "3.8.4"
  },
  "orig_nbformat": 2,
  "kernelspec": {
   "name": "python384jvsc74a57bd09d62803a1cbd2182104a1183605f86308b1943107a6ea7d89939a22c783e6f48",
   "display_name": "Python 3.8.4 64-bit"
  }
 },
 "nbformat": 4,
 "nbformat_minor": 2,
 "cells": [
  {
   "cell_type": "code",
   "execution_count": 1,
   "metadata": {},
   "outputs": [],
   "source": [
    "%matplotlib inline\n",
    "import numpy as np\n",
    "import pandas as pd\n",
    "import matplotlib.pyplot as plt"
   ]
  },
  {
   "cell_type": "code",
   "execution_count": 2,
   "metadata": {},
   "outputs": [],
   "source": [
    "from nltk.corpus import stopwords\n",
    "\n",
    "STOPWORDS = set(stopwords.words('english'))\n",
    "\n",
    "def preprocess(sent):\n",
    "\n",
    "    def convert(word):\n",
    "        # Verifica se é um número.\n",
    "        try:\n",
    "            _ = float(word)\n",
    "            return '<num>'\n",
    "        except:\n",
    "            pass\n",
    "\n",
    "        # Verifica se é uma palavra.\n",
    "        if word.isalpha():\n",
    "            lower = word.lower()\n",
    "            return '<stop>' if lower in STOPWORDS else lower\n",
    "\n",
    "        # Caso contrário, é pontuação ou estranho.\n",
    "        return '<weird>'\n",
    "\n",
    "    processed = [convert(word) for word in sent]\n",
    "    forbidden_words = set(('<num>', '<stop>', '<weird>'))\n",
    "    return [word for word in processed if word not in forbidden_words]"
   ]
  },
  {
   "cell_type": "code",
   "execution_count": 4,
   "metadata": {},
   "outputs": [
    {
     "output_type": "stream",
     "name": "stdout",
     "text": [
      "Wall time: 11.3 s\n"
     ]
    }
   ],
   "source": [
    "%%time\n",
    "# from nltk.corpus import reuters\n",
    "# sents = [preprocess(sent) for sent in reuters.sents()]\n",
    "\n",
    "# from nltk.corpus import reuters\n",
    "# from nltk.tokenize import word_tokenize\n",
    "# docs = [word_tokenize(reuters.raw(fileid).strip()) for fileid in reuters.fileids()]\n",
    "# sents = [preprocess(doc) for doc in docs]\n",
    "\n",
    "# from nltk.corpus import brown\n",
    "# sents = [preprocess(sent) for sent in brown.sents()]\n",
    "\n",
    "from sklearn.datasets import fetch_20newsgroups\n",
    "\n",
    "sents = [\n",
    "    preprocess(item.strip().split()) for item in fetch_20newsgroups()['data']\n",
    "]"
   ]
  },
  {
   "source": [
    "# Doc2Vec"
   ],
   "cell_type": "markdown",
   "metadata": {}
  },
  {
   "cell_type": "code",
   "execution_count": 5,
   "metadata": {},
   "outputs": [],
   "source": [
    "import gensim"
   ]
  },
  {
   "cell_type": "code",
   "execution_count": 6,
   "metadata": {},
   "outputs": [],
   "source": [
    "with open('sentences.txt', 'w', encoding='utf8') as file:\n",
    "    for sentence in sents:\n",
    "        file.write(f'{\" \".join([tok for tok in sentence if tok != \"<num>\"])}\\n')"
   ]
  },
  {
   "cell_type": "code",
   "execution_count": 13,
   "metadata": {},
   "outputs": [
    {
     "output_type": "stream",
     "name": "stdout",
     "text": [
      "Wall time: 3min 12s\n"
     ]
    }
   ],
   "source": [
    "%%time\n",
    "# https://radimrehurek.com/gensim/models/doc2vec.html\n",
    "model_cbow = gensim.models.Doc2Vec(\n",
    "    corpus_file='sentences.txt',\n",
    "    vector_size=200, #  Dimensionality of the feature vectors.\n",
    "    window=5, # The maximum distance between the current and predicted word within a sentence.\n",
    "    min_count=5, #  Ignores all words with total frequency lower than this.\n",
    "    workers=12, # Use these many worker threads to train the model\n",
    "    epochs=100, # Number of iterations (epochs) over the corpus. Defaults to 10 for Doc2Vec.\n",
    ")"
   ]
  },
  {
   "cell_type": "code",
   "execution_count": 14,
   "metadata": {},
   "outputs": [
    {
     "output_type": "error",
     "ename": "AttributeError",
     "evalue": "'Doc2Vec' object has no attribute 'dv'",
     "traceback": [
      "\u001b[1;31m---------------------------------------------------------------------------\u001b[0m",
      "\u001b[1;31mAttributeError\u001b[0m                            Traceback (most recent call last)",
      "\u001b[1;32m<ipython-input-14-e2302b7259dd>\u001b[0m in \u001b[0;36m<module>\u001b[1;34m\u001b[0m\n\u001b[1;32m----> 1\u001b[1;33m \u001b[0mmodel_cbow\u001b[0m\u001b[1;33m.\u001b[0m\u001b[0mdv\u001b[0m\u001b[1;33m.\u001b[0m\u001b[0mget_normed_vectors\u001b[0m\u001b[1;33m(\u001b[0m\u001b[1;33m)\u001b[0m\u001b[1;33m\u001b[0m\u001b[1;33m\u001b[0m\u001b[0m\n\u001b[0m",
      "\u001b[1;31mAttributeError\u001b[0m: 'Doc2Vec' object has no attribute 'dv'"
     ]
    }
   ],
   "source": [
    "model_cbow.dv.get_normed_vectors()"
   ]
  },
  {
   "cell_type": "code",
   "execution_count": null,
   "metadata": {},
   "outputs": [],
   "source": [
    "model_cbow.wv['article']"
   ]
  }
 ]
}