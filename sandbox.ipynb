{
 "metadata": {
  "language_info": {
   "codemirror_mode": {
    "name": "ipython",
    "version": 3
   },
   "file_extension": ".py",
   "mimetype": "text/x-python",
   "name": "python",
   "nbconvert_exporter": "python",
   "pygments_lexer": "ipython3",
   "version": "3.8.4"
  },
  "orig_nbformat": 2,
  "kernelspec": {
   "name": "python384jvsc74a57bd09d62803a1cbd2182104a1183605f86308b1943107a6ea7d89939a22c783e6f48",
   "display_name": "Python 3.8.4 64-bit"
  }
 },
 "nbformat": 4,
 "nbformat_minor": 2,
 "cells": [
  {
   "cell_type": "code",
   "execution_count": 4,
   "metadata": {},
   "outputs": [],
   "source": [
    "from itertools import chain\n",
    "import numpy as np\n",
    "from nltk.corpus import stopwords"
   ]
  },
  {
   "cell_type": "code",
   "execution_count": 1,
   "metadata": {},
   "outputs": [],
   "source": [
    "from nltk.corpus import reuters"
   ]
  },
  {
   "cell_type": "code",
   "execution_count": 2,
   "metadata": {},
   "outputs": [],
   "source": [
    "fileid = 'test/14826'\n",
    "\n",
    "sents = reuters.sents(fileid)"
   ]
  },
  {
   "cell_type": "code",
   "execution_count": 7,
   "metadata": {},
   "outputs": [],
   "source": [
    "#colocar tudo junto\n",
    "words = set(chain.from_iterable(sents))\n",
    "word_index = {word: k for k, word in enumerate(words)}\n",
    "num_words = len(word_index)\n",
    "num_sents = len(sents)"
   ]
  },
  {
   "cell_type": "code",
   "execution_count": 8,
   "metadata": {},
   "outputs": [],
   "source": [
    "# Input matrix creation:\n",
    "# The cells are used to represent the importance of words in sentences\n",
    "X = np.zeros((num_words, num_sents))\n",
    "for d, sent in enumerate(sents):\n",
    "    for word in sent:\n",
    "        w = word_index[word]\n",
    "        X[w, d] += 1"
   ]
  },
  {
   "cell_type": "code",
   "execution_count": 9,
   "metadata": {},
   "outputs": [
    {
     "output_type": "execute_result",
     "data": {
      "text/plain": [
       "array([[0., 0., 0., ..., 0., 0., 1.],\n",
       "       [0., 0., 0., ..., 0., 0., 0.],\n",
       "       [0., 0., 0., ..., 0., 0., 0.],\n",
       "       ...,\n",
       "       [0., 0., 0., ..., 0., 0., 0.],\n",
       "       [0., 0., 0., ..., 0., 0., 0.],\n",
       "       [1., 0., 0., ..., 0., 0., 0.]])"
      ]
     },
     "metadata": {},
     "execution_count": 9
    }
   ],
   "source": [
    "X"
   ]
  },
  {
   "cell_type": "code",
   "execution_count": 11,
   "metadata": {},
   "outputs": [],
   "source": [
    "#Singular Value Decomposition:\n",
    "#model relationships among words/phrases and sentences\n",
    "U, S, Vt = np.linalg.svd(X) #S os valores da diagonal\n",
    "V = Vt.transpose()"
   ]
  },
  {
   "cell_type": "code",
   "execution_count": 74,
   "metadata": {},
   "outputs": [
    {
     "output_type": "execute_result",
     "data": {
      "text/plain": [
       "[15, 18, 12]"
      ]
     },
     "metadata": {},
     "execution_count": 74
    }
   ],
   "source": [
    "## cross method\n",
    "# VT matrix is used for sentence selection purposes\n",
    "# pre-processing step is to remove the overall effect of sentences that are related to the concept somehow, but not the core sentence for that concept\n",
    "\n",
    "# rows of the VT matrix, the average sentence score is calculated\n",
    "vt = np.abs(Vt)\n",
    "mean = []\n",
    "k = 5 # comprimento do sumário\n",
    "for c in vt:\n",
    "    mean.append(np.mean(c))\n",
    "\n",
    "#removes less related sentences while keeping more related ones for that concept.\n",
    "for i in range(k):\n",
    "    for j in range(len(vt)):\n",
    "        if vt[i][j] <= mean[i]:\n",
    "            vt[i][j] = 0\n",
    "            \n",
    "# the total length of each sentence vector, which is represented by a column of the VT matrix, is calculated.\n",
    "# axis=0: \n",
    "total_length = len(vt[0])\n",
    "sum_l = vt.sum(axis = 0)\n",
    "l_score = []\n",
    "\n",
    "for i in range(total_length): l_score.append([sum_l[i], i])\n",
    "\n",
    "# sen1 has the highest length score, so it has been chosen to be part of the summary.\n",
    "l_score.sort(reverse=True)\n",
    "# length_sorted = sorted(l_score, key=lambda x: -x[0])\n",
    "f = [i[1] for i in l_score[0:3]]\n",
    "\n",
    "# for i in sorted(index):\n",
    "#         print(\" \".join(sents[i]))\n",
    "\n",
    "index"
   ]
  },
  {
   "cell_type": "code",
   "execution_count": null,
   "metadata": {},
   "outputs": [],
   "source": []
  }
 ]
}